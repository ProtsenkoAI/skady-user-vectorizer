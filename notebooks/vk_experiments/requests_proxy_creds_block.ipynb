{
 "cells": [
  {
   "cell_type": "markdown",
   "id": "7f05cd92-8644-41c5-95b6-d354cdf2b4ba",
   "metadata": {},
   "source": [
    "## TODO\n",
    "* Maybe they return cashed answers and don't count our requests? Then we'll not exceed requests limit"
   ]
  },
  {
   "cell_type": "markdown",
   "id": "91a227f2-f063-4e24-90e9-f47ecefa0a99",
   "metadata": {},
   "source": [
    "### Experiment #1: separating block of account from block of ip\n",
    "#### At the moment, in case of access error we don't know whether account, ip or both were blocked. So we reach limit, and try to use them separately. This way we can find that one of the resources was not blocked and use it further."
   ]
  },
  {
   "cell_type": "code",
   "execution_count": 1,
   "id": "c43349a1-1adf-4b77-a7bd-9ab7bd4c95fa",
   "metadata": {},
   "outputs": [],
   "source": [
    "import json\n",
    "\n",
    "\n",
    "with open(\"../../resources/checkpoints/data_checkpoint.json\") as f:\n",
    "    user_data = json.load(f)"
   ]
  },
  {
   "cell_type": "code",
   "execution_count": 3,
   "id": "54b4ebcd-7359-4557-9e34-3bce14615dfd",
   "metadata": {},
   "outputs": [],
   "source": [
    "# will just retrieve groups walls\n",
    "groups_to_get = user_data[\"68076353\"][\"groups\"]"
   ]
  },
  {
   "cell_type": "code",
   "execution_count": 10,
   "id": "36cfc107-89b2-44b9-9c80-0348698e4abc",
   "metadata": {},
   "outputs": [
    {
     "name": "stdin",
     "output_type": "stream",
     "text": [
      "Proxy address\n",
      " 45.95.99.226:7786\n",
      "Login\n",
      " 79082615141\n",
      "Password\n",
      " EITHHzn9\n"
     ]
    }
   ],
   "source": [
    "proxy = input(\"Proxy address\\n\")\n",
    "login = input(\"Login\\n\")\n",
    "password = input(\"Password\\n\")"
   ]
  },
  {
   "cell_type": "code",
   "execution_count": 11,
   "id": "a9bdf92a-85a0-4bd1-9747-75f55925f879",
   "metadata": {},
   "outputs": [],
   "source": [
    "import sys\n",
    "sys.path.insert(0, \"../../\")"
   ]
  },
  {
   "cell_type": "code",
   "execution_count": 12,
   "id": "bba2fb78-3c78-4cdf-b913-a64a1002d089",
   "metadata": {},
   "outputs": [],
   "source": [
    "from suvec.vk_api_impl.session.session_manager import SessionManager\n",
    "from suvec.vk_api_impl.errors_handler import VkApiErrorsHandler\n",
    "from suvec.vk_api_impl.session.records_managing import ProxyManager, CredsManager\n",
    "from suvec.vk_api_impl.session.records_managing.terminal_out_of_records import TerminalOutOfProxy, TerminalOutOfCreds\n",
    "\n",
    "import utils\n",
    "from suvec.vk_api_impl.crawl_runner_with_checkpoints import VkCrawlRunnerWithCheckpoints\n",
    "from suvec.common.events_tracking.terminal_events_tracker import TerminalEventsTracker\n",
    "from suvec.vk_api_impl.session.records_managing.records_storing import ProxyStorage, CredsStorage\n",
    "from suvec.vk_api_impl.session.records_managing.records_storing.serializers import ProxyRecordsSerializer, \\\n",
    "    CredsRecordsSerializer"
   ]
  },
  {
   "cell_type": "code",
   "execution_count": 13,
   "id": "8214118e-67a0-4798-94e2-d8993615e4ef",
   "metadata": {},
   "outputs": [],
   "source": [
    "\n",
    "settings_path = \"../../settings.json\"\n",
    "proxies_save_pth, creds_save_pth = utils.get_proxy_and_creds_paths(settings_path)\n",
    "checkp_data, checkp_requester = utils.get_data_requester_checkpoint_paths(settings_path)\n",
    "result_file = utils.get_result_path(settings_path)\n",
    "backups_path = utils.get_backups_path(settings_path)\n",
    "\n",
    "proxy_storage = ProxyStorage(proxies_save_pth, ProxyRecordsSerializer())\n",
    "creds_storage = CredsStorage(creds_save_pth, CredsRecordsSerializer())\n"
   ]
  },
  {
   "cell_type": "code",
   "execution_count": 14,
   "id": "57e37d2a-d487-4da8-a83c-7ba5117bcb61",
   "metadata": {},
   "outputs": [
    {
     "name": "stdout",
     "output_type": "stream",
     "text": [
      "check record is usable <suvec.vk_api_impl.session.records_managing.records.ProxyRecord object at 0x7f25f9026c10> 49424.800080776215\n",
      "check record is usable <suvec.vk_api_impl.session.records_managing.records.ProxyRecord object at 0x7f25f9026820> 44677.80105781555\n",
      "check record is usable <suvec.vk_api_impl.session.records_managing.records.ProxyRecord object at 0x7f25f8f9e550> 43914.379513025284\n",
      "check record is usable <suvec.vk_api_impl.session.records_managing.records.ProxyRecord object at 0x7f25f8f9e670> 50659.11779284477\n",
      "check record is usable <suvec.vk_api_impl.session.records_managing.records.CredsRecord object at 0x7f25f8f9eca0> 49424.8032207489\n",
      "check record is usable <suvec.vk_api_impl.session.records_managing.records.CredsRecord object at 0x7f25f8f9ed90> 44677.806616306305\n",
      "check record is usable <suvec.vk_api_impl.session.records_managing.records.CredsRecord object at 0x7f25f8f9ee20> 43914.38683056831\n",
      "check record is usable <suvec.vk_api_impl.session.records_managing.records.CredsRecord object at 0x7f25f8f9eee0> 50659.12021613121\n"
     ]
    }
   ],
   "source": [
    "errors_handler = VkApiErrorsHandler(None)\n",
    "\n",
    "out_of_proxy_handler = TerminalOutOfProxy()\n",
    "out_of_creds_handler = TerminalOutOfCreds()\n",
    "proxy_manager = ProxyManager(proxy_storage, None, out_of_proxy_handler,\n",
    "                             hours_for_resource_reload=24)\n",
    "creds_manager = CredsManager(creds_storage, None, out_of_creds_handler,\n",
    "                             hours_for_resource_reload=24)\n",
    "\n",
    "session_manager = SessionManager(errors_handler, proxy_manager, creds_manager)"
   ]
  },
  {
   "cell_type": "code",
   "execution_count": 15,
   "id": "25d70479-233d-44db-be17-d0180bb3091d",
   "metadata": {},
   "outputs": [],
   "source": [
    "session = session_manager._create_session(login, password, proxy)"
   ]
  },
  {
   "cell_type": "code",
   "execution_count": 17,
   "id": "faa687c7-1275-4baa-95b2-c36cea116d69",
   "metadata": {
    "tags": []
   },
   "outputs": [
    {
     "name": "stdout",
     "output_type": "stream",
     "text": [
      "cnt 0\n",
      "cnt 300\n",
      "cnt 600\n",
      "cnt 900\n",
      "cnt 1200\n",
      "cnt 1500\n",
      "cnt 1800\n",
      "cnt 2100\n",
      "cnt 2400\n",
      "cnt 2700\n",
      "cnt 3000\n",
      "cnt 3300\n",
      "cnt 3600\n",
      "cnt 3900\n",
      "cnt 4200\n",
      "cnt 4500\n",
      "cnt 4800\n",
      "cnt 5100\n",
      "cnt 5400\n",
      "cnt 5700\n",
      "cnt 6000\n",
      "cnt 6300\n",
      "cnt 6600\n",
      "cnt 6900\n",
      "cnt 7200\n",
      "cnt 7500\n",
      "cnt 7800\n",
      "cnt 8100\n",
      "cnt 8400\n",
      "cnt 8700\n",
      "cnt 9000\n",
      "cnt 9300\n",
      "cnt 9600\n",
      "cnt 9900\n",
      "cnt 10200\n",
      "cnt 10500\n"
     ]
    },
    {
     "ename": "ApiError",
     "evalue": "[29] Rate limit reached",
     "output_type": "error",
     "traceback": [
      "\u001b[0;31m---------------------------------------------------------------------------\u001b[0m",
      "\u001b[0;31mApiError\u001b[0m                                  Traceback (most recent call last)",
      "\u001b[0;32m<ipython-input-17-86d0e3d4c3ff>\u001b[0m in \u001b[0;36m<module>\u001b[0;34m\u001b[0m\n\u001b[1;32m     13\u001b[0m     \u001b[0;32mfor\u001b[0m \u001b[0m_\u001b[0m \u001b[0;32min\u001b[0m \u001b[0mrange\u001b[0m\u001b[0;34m(\u001b[0m\u001b[0;36m3\u001b[0m\u001b[0;34m)\u001b[0m\u001b[0;34m:\u001b[0m\u001b[0;34m\u001b[0m\u001b[0;34m\u001b[0m\u001b[0m\n\u001b[1;32m     14\u001b[0m         \u001b[0mrandom_group_id\u001b[0m \u001b[0;34m=\u001b[0m \u001b[0mchoice\u001b[0m\u001b[0;34m(\u001b[0m\u001b[0mgroups_to_get\u001b[0m\u001b[0;34m)\u001b[0m\u001b[0;34m\u001b[0m\u001b[0;34m\u001b[0m\u001b[0m\n\u001b[0;32m---> 15\u001b[0;31m         \u001b[0mres\u001b[0m \u001b[0;34m=\u001b[0m \u001b[0m_make_request\u001b[0m\u001b[0;34m(\u001b[0m\u001b[0mrandom_group_id\u001b[0m\u001b[0;34m)\u001b[0m\u001b[0;34m\u001b[0m\u001b[0;34m\u001b[0m\u001b[0m\n\u001b[0m\u001b[1;32m     16\u001b[0m         \u001b[0mcnt_requests\u001b[0m \u001b[0;34m+=\u001b[0m \u001b[0;36m1\u001b[0m\u001b[0;34m\u001b[0m\u001b[0;34m\u001b[0m\u001b[0m\n\u001b[1;32m     17\u001b[0m     \u001b[0msleep\u001b[0m\u001b[0;34m(\u001b[0m\u001b[0;36m0\u001b[0m\u001b[0;34m)\u001b[0m\u001b[0;34m\u001b[0m\u001b[0;34m\u001b[0m\u001b[0m\n",
      "\u001b[0;32m<ipython-input-17-86d0e3d4c3ff>\u001b[0m in \u001b[0;36m_make_request\u001b[0;34m(group_id)\u001b[0m\n\u001b[1;32m      5\u001b[0m \u001b[0;34m\u001b[0m\u001b[0m\n\u001b[1;32m      6\u001b[0m \u001b[0;32mdef\u001b[0m \u001b[0m_make_request\u001b[0m\u001b[0;34m(\u001b[0m\u001b[0mgroup_id\u001b[0m\u001b[0;34m)\u001b[0m\u001b[0;34m:\u001b[0m\u001b[0;34m\u001b[0m\u001b[0;34m\u001b[0m\u001b[0m\n\u001b[0;32m----> 7\u001b[0;31m     \u001b[0mrequest\u001b[0m \u001b[0;34m=\u001b[0m \u001b[0msession\u001b[0m\u001b[0;34m.\u001b[0m\u001b[0mvk_session\u001b[0m\u001b[0;34m.\u001b[0m\u001b[0mmethod\u001b[0m\u001b[0;34m(\u001b[0m\u001b[0;34m\"groups.getById\"\u001b[0m\u001b[0;34m,\u001b[0m \u001b[0mvalues\u001b[0m\u001b[0;34m=\u001b[0m\u001b[0;34m{\u001b[0m\u001b[0;34m\"group_ids\"\u001b[0m\u001b[0;34m:\u001b[0m \u001b[0mgroup_id\u001b[0m\u001b[0;34m}\u001b[0m\u001b[0;34m)\u001b[0m\u001b[0;34m\u001b[0m\u001b[0;34m\u001b[0m\u001b[0m\n\u001b[0m\u001b[1;32m      8\u001b[0m     \u001b[0;32mreturn\u001b[0m \u001b[0mrequest\u001b[0m\u001b[0;34m\u001b[0m\u001b[0;34m\u001b[0m\u001b[0m\n\u001b[1;32m      9\u001b[0m \u001b[0;34m\u001b[0m\u001b[0m\n",
      "\u001b[0;32m~/.local/share/virtualenvs/skady-user-vectorizer-O0WfYoVr/lib/python3.8/site-packages/vk_api/vk_api.py\u001b[0m in \u001b[0;36mmethod\u001b[0;34m(self, method, values, captcha_sid, captcha_key, raw)\u001b[0m\n\u001b[1;32m    666\u001b[0m                     \u001b[0;32mreturn\u001b[0m \u001b[0mresponse\u001b[0m\u001b[0;34m\u001b[0m\u001b[0;34m\u001b[0m\u001b[0m\n\u001b[1;32m    667\u001b[0m \u001b[0;34m\u001b[0m\u001b[0m\n\u001b[0;32m--> 668\u001b[0;31m             \u001b[0;32mraise\u001b[0m \u001b[0merror\u001b[0m\u001b[0;34m\u001b[0m\u001b[0;34m\u001b[0m\u001b[0m\n\u001b[0m\u001b[1;32m    669\u001b[0m \u001b[0;34m\u001b[0m\u001b[0m\n\u001b[1;32m    670\u001b[0m         \u001b[0;32mreturn\u001b[0m \u001b[0mresponse\u001b[0m \u001b[0;32mif\u001b[0m \u001b[0mraw\u001b[0m \u001b[0;32melse\u001b[0m \u001b[0mresponse\u001b[0m\u001b[0;34m[\u001b[0m\u001b[0;34m'response'\u001b[0m\u001b[0;34m]\u001b[0m\u001b[0;34m\u001b[0m\u001b[0;34m\u001b[0m\u001b[0m\n",
      "\u001b[0;31mApiError\u001b[0m: [29] Rate limit reached"
     ]
    }
   ],
   "source": [
    "from time import sleep\n",
    "from random import choice\n",
    "\n",
    "cnt_requests = 0\n",
    "\n",
    "def _make_request(group_id):\n",
    "    request = session.vk_session.method(\"groups.getById\", values={\"group_ids\": group_id})\n",
    "    return request\n",
    "\n",
    "while True:\n",
    "    if cnt_requests % 100 == 0:\n",
    "        print(\"cnt\", cnt_requests)\n",
    "    for _ in range(3):\n",
    "        random_group_id = choice(groups_to_get)\n",
    "        res = _make_request(random_group_id)\n",
    "        cnt_requests += 1\n",
    "    sleep(0)"
   ]
  },
  {
   "cell_type": "markdown",
   "id": "e783f78e-32c2-404f-bf39-89d648566622",
   "metadata": {},
   "source": [
    "# Blocked ~ at 15:30 11.06.21"
   ]
  },
  {
   "cell_type": "code",
   "execution_count": null,
   "id": "08b70feb-8f00-4343-acbd-5b6823d35924",
   "metadata": {},
   "outputs": [],
   "source": []
  },
  {
   "cell_type": "code",
   "execution_count": null,
   "id": "1672ec9a-613f-40cc-985d-dfd53d61c02e",
   "metadata": {},
   "outputs": [],
   "source": [
    "print(res)"
   ]
  },
  {
   "cell_type": "markdown",
   "id": "4a2b0b58-d9fe-44f5-ba3e-15b85b4aad46",
   "metadata": {},
   "source": [
    "### Changed proxy: didn't help, so creds were blocked"
   ]
  },
  {
   "cell_type": "code",
   "execution_count": 19,
   "id": "edac9f1a-2d72-4e66-8881-06b4f67d3dbe",
   "metadata": {},
   "outputs": [],
   "source": [
    "other_proxy = \"45.95.99.20:7580\"\n",
    "session_other_proxy = session_manager._create_session(login, password, other_proxy)"
   ]
  },
  {
   "cell_type": "code",
   "execution_count": 20,
   "id": "3fde3258-577c-4109-a861-4d83e66663ed",
   "metadata": {},
   "outputs": [
    {
     "name": "stdout",
     "output_type": "stream",
     "text": [
      "cnt 0\n"
     ]
    },
    {
     "ename": "ApiError",
     "evalue": "[29] Rate limit reached",
     "output_type": "error",
     "traceback": [
      "\u001b[0;31m---------------------------------------------------------------------------\u001b[0m",
      "\u001b[0;31mApiError\u001b[0m                                  Traceback (most recent call last)",
      "\u001b[0;32m<ipython-input-20-2b05c0ebc208>\u001b[0m in \u001b[0;36m<module>\u001b[0;34m\u001b[0m\n\u001b[1;32m     10\u001b[0m     \u001b[0;32mfor\u001b[0m \u001b[0m_\u001b[0m \u001b[0;32min\u001b[0m \u001b[0mrange\u001b[0m\u001b[0;34m(\u001b[0m\u001b[0;36m3\u001b[0m\u001b[0;34m)\u001b[0m\u001b[0;34m:\u001b[0m\u001b[0;34m\u001b[0m\u001b[0;34m\u001b[0m\u001b[0m\n\u001b[1;32m     11\u001b[0m         \u001b[0mrandom_group_id\u001b[0m \u001b[0;34m=\u001b[0m \u001b[0mchoice\u001b[0m\u001b[0;34m(\u001b[0m\u001b[0mgroups_to_get\u001b[0m\u001b[0;34m)\u001b[0m\u001b[0;34m\u001b[0m\u001b[0;34m\u001b[0m\u001b[0m\n\u001b[0;32m---> 12\u001b[0;31m         \u001b[0mres\u001b[0m \u001b[0;34m=\u001b[0m \u001b[0m_make_request\u001b[0m\u001b[0;34m(\u001b[0m\u001b[0mrandom_group_id\u001b[0m\u001b[0;34m)\u001b[0m\u001b[0;34m\u001b[0m\u001b[0;34m\u001b[0m\u001b[0m\n\u001b[0m\u001b[1;32m     13\u001b[0m         \u001b[0mcnt_requests\u001b[0m \u001b[0;34m+=\u001b[0m \u001b[0;36m1\u001b[0m\u001b[0;34m\u001b[0m\u001b[0;34m\u001b[0m\u001b[0m\n\u001b[1;32m     14\u001b[0m     \u001b[0msleep\u001b[0m\u001b[0;34m(\u001b[0m\u001b[0;36m0\u001b[0m\u001b[0;34m)\u001b[0m\u001b[0;34m\u001b[0m\u001b[0;34m\u001b[0m\u001b[0m\n",
      "\u001b[0;32m<ipython-input-20-2b05c0ebc208>\u001b[0m in \u001b[0;36m_make_request\u001b[0;34m(group_id)\u001b[0m\n\u001b[1;32m      2\u001b[0m \u001b[0;34m\u001b[0m\u001b[0m\n\u001b[1;32m      3\u001b[0m \u001b[0;32mdef\u001b[0m \u001b[0m_make_request\u001b[0m\u001b[0;34m(\u001b[0m\u001b[0mgroup_id\u001b[0m\u001b[0;34m)\u001b[0m\u001b[0;34m:\u001b[0m\u001b[0;34m\u001b[0m\u001b[0;34m\u001b[0m\u001b[0m\n\u001b[0;32m----> 4\u001b[0;31m     \u001b[0mrequest\u001b[0m \u001b[0;34m=\u001b[0m \u001b[0msession_other_proxy\u001b[0m\u001b[0;34m.\u001b[0m\u001b[0mvk_session\u001b[0m\u001b[0;34m.\u001b[0m\u001b[0mmethod\u001b[0m\u001b[0;34m(\u001b[0m\u001b[0;34m\"groups.getById\"\u001b[0m\u001b[0;34m,\u001b[0m \u001b[0mvalues\u001b[0m\u001b[0;34m=\u001b[0m\u001b[0;34m{\u001b[0m\u001b[0;34m\"group_ids\"\u001b[0m\u001b[0;34m:\u001b[0m \u001b[0mgroup_id\u001b[0m\u001b[0;34m}\u001b[0m\u001b[0;34m)\u001b[0m\u001b[0;34m\u001b[0m\u001b[0;34m\u001b[0m\u001b[0m\n\u001b[0m\u001b[1;32m      5\u001b[0m     \u001b[0;32mreturn\u001b[0m \u001b[0mrequest\u001b[0m\u001b[0;34m\u001b[0m\u001b[0;34m\u001b[0m\u001b[0m\n\u001b[1;32m      6\u001b[0m \u001b[0;34m\u001b[0m\u001b[0m\n",
      "\u001b[0;32m~/.local/share/virtualenvs/skady-user-vectorizer-O0WfYoVr/lib/python3.8/site-packages/vk_api/vk_api.py\u001b[0m in \u001b[0;36mmethod\u001b[0;34m(self, method, values, captcha_sid, captcha_key, raw)\u001b[0m\n\u001b[1;32m    666\u001b[0m                     \u001b[0;32mreturn\u001b[0m \u001b[0mresponse\u001b[0m\u001b[0;34m\u001b[0m\u001b[0;34m\u001b[0m\u001b[0m\n\u001b[1;32m    667\u001b[0m \u001b[0;34m\u001b[0m\u001b[0m\n\u001b[0;32m--> 668\u001b[0;31m             \u001b[0;32mraise\u001b[0m \u001b[0merror\u001b[0m\u001b[0;34m\u001b[0m\u001b[0;34m\u001b[0m\u001b[0m\n\u001b[0m\u001b[1;32m    669\u001b[0m \u001b[0;34m\u001b[0m\u001b[0m\n\u001b[1;32m    670\u001b[0m         \u001b[0;32mreturn\u001b[0m \u001b[0mresponse\u001b[0m \u001b[0;32mif\u001b[0m \u001b[0mraw\u001b[0m \u001b[0;32melse\u001b[0m \u001b[0mresponse\u001b[0m\u001b[0;34m[\u001b[0m\u001b[0;34m'response'\u001b[0m\u001b[0;34m]\u001b[0m\u001b[0;34m\u001b[0m\u001b[0;34m\u001b[0m\u001b[0m\n",
      "\u001b[0;31mApiError\u001b[0m: [29] Rate limit reached"
     ]
    }
   ],
   "source": [
    "cnt_requests = 0\n",
    "\n",
    "def _make_request(group_id):\n",
    "    request = session_other_proxy.vk_session.method(\"groups.getById\", values={\"group_ids\": group_id})\n",
    "    return request\n",
    "\n",
    "while True:\n",
    "    if cnt_requests % 100 == 0:\n",
    "        print(\"cnt\", cnt_requests)\n",
    "    for _ in range(3):\n",
    "        random_group_id = choice(groups_to_get)\n",
    "        res = _make_request(random_group_id)\n",
    "        cnt_requests += 1\n",
    "    sleep(0)"
   ]
  },
  {
   "cell_type": "markdown",
   "id": "d7ce72ea-f65f-4f32-b812-7b85f79bd89e",
   "metadata": {},
   "source": [
    "### Changed creds: helped, so proxy were not blocked\n",
    "### Update: creds were blocked one more time, I reset them and everything works. So the conclusion is: accounts are blocked far more early then proxy\n",
    "\n",
    "### Note: every cell worked ~ 2 hours before access error, so maybe situation changes in case of hour limits\n",
    "### Update: works one more time\n",
    "### Update: at 01:30 reseted creds with ones that exceeded limit at 15:30. Maybe they aren't blocked for 24 hours, blocked for 1 hour, or till the end of the day\n",
    "## TODO: exceed limit and retry with same creds after hour, after 2 hours etc."
   ]
  },
  {
   "cell_type": "code",
   "execution_count": 28,
   "id": "5ffeda3c-de8d-4708-b837-e6635e9db5e9",
   "metadata": {},
   "outputs": [],
   "source": [
    "other_creds = \"79082615141\", \"EITHHzn9\"\n",
    "session_other_creds = session_manager._create_session(*other_creds, proxy)"
   ]
  },
  {
   "cell_type": "code",
   "execution_count": 29,
   "id": "0dd0a1c7-1af7-4034-9dee-d82a0d1644ad",
   "metadata": {
    "tags": []
   },
   "outputs": [
    {
     "name": "stdout",
     "output_type": "stream",
     "text": [
      "cnt 0\n",
      "cnt 300\n",
      "cnt 600\n",
      "cnt 900\n",
      "cnt 1200\n",
      "cnt 1500\n",
      "cnt 1800\n",
      "cnt 2100\n",
      "cnt 2400\n",
      "cnt 2700\n",
      "cnt 3000\n",
      "cnt 3300\n",
      "cnt 3600\n",
      "cnt 3900\n",
      "cnt 4200\n",
      "cnt 4500\n",
      "cnt 4800\n",
      "cnt 5100\n",
      "cnt 5400\n",
      "cnt 5700\n",
      "cnt 6000\n",
      "cnt 6300\n",
      "cnt 6600\n",
      "cnt 6900\n",
      "cnt 7200\n",
      "cnt 7500\n",
      "cnt 7800\n",
      "cnt 8100\n",
      "cnt 8400\n",
      "cnt 8700\n",
      "cnt 9000\n",
      "cnt 9300\n",
      "cnt 9600\n",
      "cnt 9900\n",
      "cnt 10200\n",
      "cnt 10500\n"
     ]
    },
    {
     "ename": "ApiError",
     "evalue": "[29] Rate limit reached",
     "output_type": "error",
     "traceback": [
      "\u001b[0;31m---------------------------------------------------------------------------\u001b[0m",
      "\u001b[0;31mApiError\u001b[0m                                  Traceback (most recent call last)",
      "\u001b[0;32m<ipython-input-29-c9555fc1bd10>\u001b[0m in \u001b[0;36m<module>\u001b[0;34m\u001b[0m\n\u001b[1;32m     10\u001b[0m     \u001b[0;32mfor\u001b[0m \u001b[0m_\u001b[0m \u001b[0;32min\u001b[0m \u001b[0mrange\u001b[0m\u001b[0;34m(\u001b[0m\u001b[0;36m3\u001b[0m\u001b[0;34m)\u001b[0m\u001b[0;34m:\u001b[0m\u001b[0;34m\u001b[0m\u001b[0;34m\u001b[0m\u001b[0m\n\u001b[1;32m     11\u001b[0m         \u001b[0mrandom_group_id\u001b[0m \u001b[0;34m=\u001b[0m \u001b[0mchoice\u001b[0m\u001b[0;34m(\u001b[0m\u001b[0mgroups_to_get\u001b[0m\u001b[0;34m)\u001b[0m\u001b[0;34m\u001b[0m\u001b[0;34m\u001b[0m\u001b[0m\n\u001b[0;32m---> 12\u001b[0;31m         \u001b[0mres\u001b[0m \u001b[0;34m=\u001b[0m \u001b[0m_make_request\u001b[0m\u001b[0;34m(\u001b[0m\u001b[0mrandom_group_id\u001b[0m\u001b[0;34m)\u001b[0m\u001b[0;34m\u001b[0m\u001b[0;34m\u001b[0m\u001b[0m\n\u001b[0m\u001b[1;32m     13\u001b[0m         \u001b[0mcnt_requests\u001b[0m \u001b[0;34m+=\u001b[0m \u001b[0;36m1\u001b[0m\u001b[0;34m\u001b[0m\u001b[0;34m\u001b[0m\u001b[0m\n\u001b[1;32m     14\u001b[0m     \u001b[0msleep\u001b[0m\u001b[0;34m(\u001b[0m\u001b[0;36m0\u001b[0m\u001b[0;34m)\u001b[0m\u001b[0;34m\u001b[0m\u001b[0;34m\u001b[0m\u001b[0m\n",
      "\u001b[0;32m<ipython-input-29-c9555fc1bd10>\u001b[0m in \u001b[0;36m_make_request\u001b[0;34m(group_id)\u001b[0m\n\u001b[1;32m      2\u001b[0m \u001b[0;34m\u001b[0m\u001b[0m\n\u001b[1;32m      3\u001b[0m \u001b[0;32mdef\u001b[0m \u001b[0m_make_request\u001b[0m\u001b[0;34m(\u001b[0m\u001b[0mgroup_id\u001b[0m\u001b[0;34m)\u001b[0m\u001b[0;34m:\u001b[0m\u001b[0;34m\u001b[0m\u001b[0;34m\u001b[0m\u001b[0m\n\u001b[0;32m----> 4\u001b[0;31m     \u001b[0mrequest\u001b[0m \u001b[0;34m=\u001b[0m \u001b[0msession_other_creds\u001b[0m\u001b[0;34m.\u001b[0m\u001b[0mvk_session\u001b[0m\u001b[0;34m.\u001b[0m\u001b[0mmethod\u001b[0m\u001b[0;34m(\u001b[0m\u001b[0;34m\"groups.getById\"\u001b[0m\u001b[0;34m,\u001b[0m \u001b[0mvalues\u001b[0m\u001b[0;34m=\u001b[0m\u001b[0;34m{\u001b[0m\u001b[0;34m\"group_ids\"\u001b[0m\u001b[0;34m:\u001b[0m \u001b[0mgroup_id\u001b[0m\u001b[0;34m}\u001b[0m\u001b[0;34m)\u001b[0m\u001b[0;34m\u001b[0m\u001b[0;34m\u001b[0m\u001b[0m\n\u001b[0m\u001b[1;32m      5\u001b[0m     \u001b[0;32mreturn\u001b[0m \u001b[0mrequest\u001b[0m\u001b[0;34m\u001b[0m\u001b[0;34m\u001b[0m\u001b[0m\n\u001b[1;32m      6\u001b[0m \u001b[0;34m\u001b[0m\u001b[0m\n",
      "\u001b[0;32m~/.local/share/virtualenvs/skady-user-vectorizer-O0WfYoVr/lib/python3.8/site-packages/vk_api/vk_api.py\u001b[0m in \u001b[0;36mmethod\u001b[0;34m(self, method, values, captcha_sid, captcha_key, raw)\u001b[0m\n\u001b[1;32m    666\u001b[0m                     \u001b[0;32mreturn\u001b[0m \u001b[0mresponse\u001b[0m\u001b[0;34m\u001b[0m\u001b[0;34m\u001b[0m\u001b[0m\n\u001b[1;32m    667\u001b[0m \u001b[0;34m\u001b[0m\u001b[0m\n\u001b[0;32m--> 668\u001b[0;31m             \u001b[0;32mraise\u001b[0m \u001b[0merror\u001b[0m\u001b[0;34m\u001b[0m\u001b[0;34m\u001b[0m\u001b[0m\n\u001b[0m\u001b[1;32m    669\u001b[0m \u001b[0;34m\u001b[0m\u001b[0m\n\u001b[1;32m    670\u001b[0m         \u001b[0;32mreturn\u001b[0m \u001b[0mresponse\u001b[0m \u001b[0;32mif\u001b[0m \u001b[0mraw\u001b[0m \u001b[0;32melse\u001b[0m \u001b[0mresponse\u001b[0m\u001b[0;34m[\u001b[0m\u001b[0;34m'response'\u001b[0m\u001b[0;34m]\u001b[0m\u001b[0;34m\u001b[0m\u001b[0;34m\u001b[0m\u001b[0m\n",
      "\u001b[0;31mApiError\u001b[0m: [29] Rate limit reached"
     ]
    }
   ],
   "source": [
    "cnt_requests = 0\n",
    "\n",
    "def _make_request(group_id):\n",
    "    request = session_other_creds.vk_session.method(\"groups.getById\", values={\"group_ids\": group_id})\n",
    "    return request\n",
    "\n",
    "while True:\n",
    "    if cnt_requests % 100 == 0:\n",
    "        print(\"cnt\", cnt_requests)\n",
    "    for _ in range(3):\n",
    "        random_group_id = choice(groups_to_get)\n",
    "        res = _make_request(random_group_id)\n",
    "        cnt_requests += 1\n",
    "    sleep(0)"
   ]
  },
  {
   "cell_type": "code",
   "execution_count": null,
   "id": "4d088f3e-f974-48a5-a3ec-cecd949f38c2",
   "metadata": {},
   "outputs": [],
   "source": []
  }
 ],
 "metadata": {
  "kernelspec": {
   "display_name": "Python 3",
   "language": "python",
   "name": "python3"
  },
  "language_info": {
   "codemirror_mode": {
    "name": "ipython",
    "version": 3
   },
   "file_extension": ".py",
   "mimetype": "text/x-python",
   "name": "python",
   "nbconvert_exporter": "python",
   "pygments_lexer": "ipython3",
   "version": "3.8.5"
  }
 },
 "nbformat": 4,
 "nbformat_minor": 5
}
